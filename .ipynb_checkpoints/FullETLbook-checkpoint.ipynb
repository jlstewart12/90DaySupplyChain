{
 "cells": [
  {
   "cell_type": "code",
   "execution_count": 9,
   "metadata": {},
   "outputs": [],
   "source": [
    "# Dependencies and Setup\n",
    "import pandas as pd\n",
    "import numpy as np\n",
    "import requests\n",
    "import pymongo\n",
    "from splinter import Browser\n",
    "from bs4 import BeautifulSoup as bs\n",
    "from pprint import pprint\n",
    "import time\n",
    "from lxml import html\n",
    "\n",
    "exports_file = \"Export_Sales_Full.csv\"\n",
    "inspection_file = \"Grain_Inspections.csv\"\n",
    "trucks_file = \"Refrigerated_Truck_Volumes.csv\"\n",
    "fuel_file = \"Weekly_On-Highway_Diesel_fuel_Prices.csv\"\n",
    "exports_data = pd.read_csv(exports_file, index_col=0)\n",
    "inspection_data = pd.read_csv(inspection_file, index_col=0)\n",
    "truck_data = pd.read_csv(trucks_file, index_col=0)\n",
    "fuel_data = pd.read_csv(fuel_file, index_col=0)"
   ]
  },
  {
   "cell_type": "code",
   "execution_count": 10,
   "metadata": {},
   "outputs": [],
   "source": [
    "exports_df = pd.DataFrame(exports_data)\n",
    "inspection_df = pd.DataFrame(inspection_data)\n",
    "truck_df = pd.DataFrame(truck_data)\n",
    "fuel_df = pd.DataFrame(fuel_data)"
   ]
  },
  {
   "cell_type": "code",
   "execution_count": 3,
   "metadata": {
    "collapsed": true,
    "jupyter": {
     "outputs_hidden": true
    }
   },
   "outputs": [
    {
     "data": {
      "text/plain": [
       "Week                            int64\n",
       "Month                           int64\n",
       "Year                            int64\n",
       "Marketing Year                  int64\n",
       "Country                        object\n",
       "Commodity                      object\n",
       "Commodity Type                 object\n",
       "Marketing Year Start or End    object\n",
       "Unit                           object\n",
       "Weekly Exports CMY              int64\n",
       "Accumulated Exports CMY         int64\n",
       "Outstanding Sales CMY           int64\n",
       "Gross Sales CMY                 int64\n",
       "Net Sales CMY                   int64\n",
       "Total Commitments CMY           int64\n",
       "Outstanding Sales NMY           int64\n",
       "Net Sales NMY                   int64\n",
       "Marketing Month                 int64\n",
       "Net Sales, Total                int64\n",
       "Outstanding Sales, Total        int64\n",
       "dtype: object"
      ]
     },
     "execution_count": 3,
     "metadata": {},
     "output_type": "execute_result"
    }
   ],
   "source": [
    "exports_df.dtypes"
   ]
  },
  {
   "cell_type": "code",
   "execution_count": 4,
   "metadata": {
    "collapsed": true,
    "jupyter": {
     "outputs_hidden": true
    }
   },
   "outputs": [
    {
     "data": {
      "text/plain": [
       "Week             int64\n",
       "Month            int64\n",
       "Quarter          int64\n",
       "Year             int64\n",
       "Type_Shipm      object\n",
       "Type_Carrier     int64\n",
       "Carrier_Name    object\n",
       "Grain           object\n",
       "Class           object\n",
       "SubClass        object\n",
       "Destination     object\n",
       "Port            object\n",
       "AMS_Reg         object\n",
       "FGIS_Reg        object\n",
       "State           object\n",
       "MT               int64\n",
       "Pounds           int64\n",
       "Field_Office    object\n",
       "dtype: object"
      ]
     },
     "execution_count": 4,
     "metadata": {},
     "output_type": "execute_result"
    }
   ],
   "source": [
    "inspection_df.dtypes"
   ]
  },
  {
   "cell_type": "code",
   "execution_count": 5,
   "metadata": {
    "collapsed": true,
    "jupyter": {
     "outputs_hidden": true
    }
   },
   "outputs": [
    {
     "data": {
      "text/plain": [
       "Weekday                        int64\n",
       "Month                          int64\n",
       "Year                           int64\n",
       "Quarter                        int64\n",
       "Tuesday Week Ending           object\n",
       "Tuesday Week Ending Number     int64\n",
       "Season                         int64\n",
       "Mode                          object\n",
       "Region                        object\n",
       "Origin                        object\n",
       "District                      object\n",
       "Commodity                     object\n",
       "10,000 LBS                     int64\n",
       "dtype: object"
      ]
     },
     "execution_count": 5,
     "metadata": {},
     "output_type": "execute_result"
    }
   ],
   "source": [
    "truck_df.dtypes"
   ]
  },
  {
   "cell_type": "code",
   "execution_count": 11,
   "metadata": {
    "collapsed": true,
    "jupyter": {
     "outputs_hidden": true
    }
   },
   "outputs": [
    {
     "data": {
      "text/plain": [
       "Week              int64\n",
       "Month             int64\n",
       "Year              int64\n",
       "Region           object\n",
       "Diesel Price    float64\n",
       "dtype: object"
      ]
     },
     "execution_count": 11,
     "metadata": {},
     "output_type": "execute_result"
    }
   ],
   "source": [
    "fuel_df.dtypes"
   ]
  },
  {
   "cell_type": "code",
   "execution_count": 12,
   "metadata": {},
   "outputs": [],
   "source": [
    "Ehtml = exports_df.to_html()\n",
    "Ihtml = inspection_df.to_html()\n",
    "Thtml = truck_df.to_html()\n",
    "Fhtml = fuel_df.to_html()"
   ]
  },
  {
   "cell_type": "code",
   "execution_count": 13,
   "metadata": {},
   "outputs": [],
   "source": [
    "executable_path = {'executable_path': 'chromedriver.exe'}\n",
    "browser = Browser('chrome', **executable_path, headless=False)"
   ]
  },
  {
   "cell_type": "code",
   "execution_count": 14,
   "metadata": {},
   "outputs": [],
   "source": [
    "#define url\n",
    "exports_url = \"https://agtransport.usda.gov/resource/wnn7-29tu.json\"\n",
    "inspection_url = \"https://agtransport.usda.gov/resource/sruw-w49i.json\"\n",
    "truck_url = \"https://agtransport.usda.gov/resource/rfpn-7etz.json\"\n",
    "fuel_url = \"https://agtransport.usda.gov/resource/x88w-atzp.json\""
   ]
  },
  {
   "cell_type": "code",
   "execution_count": 15,
   "metadata": {},
   "outputs": [],
   "source": [
    "browser.visit(exports_url)"
   ]
  },
  {
   "cell_type": "code",
   "execution_count": 16,
   "metadata": {},
   "outputs": [],
   "source": [
    "browser.visit(inspection_url)"
   ]
  },
  {
   "cell_type": "code",
   "execution_count": 17,
   "metadata": {},
   "outputs": [],
   "source": [
    "browser.visit(truck_url)"
   ]
  },
  {
   "cell_type": "code",
   "execution_count": 18,
   "metadata": {},
   "outputs": [],
   "source": [
    "browser.visit(fuel_url)"
   ]
  },
  {
   "cell_type": "code",
   "execution_count": 19,
   "metadata": {},
   "outputs": [],
   "source": [
    "# create beautiful soup object \n",
    "html = browser.html\n",
    "soup = bs(html, 'html.parser')"
   ]
  },
  {
   "cell_type": "code",
   "execution_count": 20,
   "metadata": {},
   "outputs": [],
   "source": [
    "# Initialize PyMongo to work with MongoDBs\n",
    "conn = 'mongodb://localhost:27017'\n",
    "client = pymongo.MongoClient(conn)"
   ]
  },
  {
   "cell_type": "code",
   "execution_count": 21,
   "metadata": {},
   "outputs": [],
   "source": [
    "# Define database and collection\n",
    "db = client.USDAtransports\n",
    "Export_Sales = db.Export_Sales\n",
    "Ref_Truck_Volume = db.Ref_Truck_Volumes\n",
    "Grain_Inspections = db.Grain_Inspections\n",
    "Diesel_Fuel_Prices = db.Diesel_Fuel_Prices"
   ]
  },
  {
   "cell_type": "code",
   "execution_count": 22,
   "metadata": {},
   "outputs": [
    {
     "data": {
      "text/plain": [
       "<pymongo.results.InsertManyResult at 0x2060c7c8488>"
      ]
     },
     "execution_count": 22,
     "metadata": {},
     "output_type": "execute_result"
    }
   ],
   "source": [
    "db.Export_Sales.insert_many(exports_df.to_dict('records'))"
   ]
  },
  {
   "cell_type": "code",
   "execution_count": 24,
   "metadata": {},
   "outputs": [
    {
     "data": {
      "text/plain": [
       "<pymongo.results.InsertManyResult at 0x20665aec688>"
      ]
     },
     "execution_count": 24,
     "metadata": {},
     "output_type": "execute_result"
    }
   ],
   "source": [
    "db.Ref_Truck_Volumes.insert_many(truck_df.to_dict('records'))"
   ]
  },
  {
   "cell_type": "code",
   "execution_count": 25,
   "metadata": {},
   "outputs": [
    {
     "data": {
      "text/plain": [
       "<pymongo.results.InsertManyResult at 0x206031cba08>"
      ]
     },
     "execution_count": 25,
     "metadata": {},
     "output_type": "execute_result"
    }
   ],
   "source": [
    "db.Grain_Inspections.insert_many(inspection_df.to_dict('records'))"
   ]
  },
  {
   "cell_type": "code",
   "execution_count": 26,
   "metadata": {},
   "outputs": [
    {
     "data": {
      "text/plain": [
       "<pymongo.results.InsertManyResult at 0x20659d8fc48>"
      ]
     },
     "execution_count": 26,
     "metadata": {},
     "output_type": "execute_result"
    }
   ],
   "source": [
    "db.Diesel_Fuel_Prices.insert_many(fuel_df.to_dict('records'))"
   ]
  }
 ],
 "metadata": {
  "kernelspec": {
   "display_name": "Python 3",
   "language": "python",
   "name": "python3"
  },
  "language_info": {
   "codemirror_mode": {
    "name": "ipython",
    "version": 3
   },
   "file_extension": ".py",
   "mimetype": "text/x-python",
   "name": "python",
   "nbconvert_exporter": "python",
   "pygments_lexer": "ipython3",
   "version": "3.7.6"
  }
 },
 "nbformat": 4,
 "nbformat_minor": 4
}
